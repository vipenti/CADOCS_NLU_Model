{
  "cells": [
    {
      "cell_type": "markdown",
      "metadata": {
        "id": "dVy1ee-evdmI"
      },
      "source": [
        "First, the required libraries are installed"
      ]
    },
    {
      "cell_type": "code",
      "source": [
        "!pip install nlpaug"
      ],
      "metadata": {
        "id": "IskF3D-vwqx9",
        "colab": {
          "base_uri": "https://localhost:8080/"
        },
        "outputId": "6555eb01-cdfd-4367-a6d0-bc673e629e4c"
      },
      "execution_count": 104,
      "outputs": [
        {
          "output_type": "stream",
          "name": "stdout",
          "text": [
            "Requirement already satisfied: nlpaug in /usr/local/lib/python3.10/dist-packages (1.1.11)\n",
            "Requirement already satisfied: numpy>=1.16.2 in /usr/local/lib/python3.10/dist-packages (from nlpaug) (1.22.4)\n",
            "Requirement already satisfied: pandas>=1.2.0 in /usr/local/lib/python3.10/dist-packages (from nlpaug) (1.5.3)\n",
            "Requirement already satisfied: requests>=2.22.0 in /usr/local/lib/python3.10/dist-packages (from nlpaug) (2.27.1)\n",
            "Requirement already satisfied: gdown>=4.0.0 in /usr/local/lib/python3.10/dist-packages (from nlpaug) (4.6.6)\n",
            "Requirement already satisfied: filelock in /usr/local/lib/python3.10/dist-packages (from gdown>=4.0.0->nlpaug) (3.12.2)\n",
            "Requirement already satisfied: six in /usr/local/lib/python3.10/dist-packages (from gdown>=4.0.0->nlpaug) (1.16.0)\n",
            "Requirement already satisfied: tqdm in /usr/local/lib/python3.10/dist-packages (from gdown>=4.0.0->nlpaug) (4.65.0)\n",
            "Requirement already satisfied: beautifulsoup4 in /usr/local/lib/python3.10/dist-packages (from gdown>=4.0.0->nlpaug) (4.11.2)\n",
            "Requirement already satisfied: python-dateutil>=2.8.1 in /usr/local/lib/python3.10/dist-packages (from pandas>=1.2.0->nlpaug) (2.8.2)\n",
            "Requirement already satisfied: pytz>=2020.1 in /usr/local/lib/python3.10/dist-packages (from pandas>=1.2.0->nlpaug) (2022.7.1)\n",
            "Requirement already satisfied: urllib3<1.27,>=1.21.1 in /usr/local/lib/python3.10/dist-packages (from requests>=2.22.0->nlpaug) (1.26.16)\n",
            "Requirement already satisfied: certifi>=2017.4.17 in /usr/local/lib/python3.10/dist-packages (from requests>=2.22.0->nlpaug) (2023.5.7)\n",
            "Requirement already satisfied: charset-normalizer~=2.0.0 in /usr/local/lib/python3.10/dist-packages (from requests>=2.22.0->nlpaug) (2.0.12)\n",
            "Requirement already satisfied: idna<4,>=2.5 in /usr/local/lib/python3.10/dist-packages (from requests>=2.22.0->nlpaug) (3.4)\n",
            "Requirement already satisfied: soupsieve>1.2 in /usr/local/lib/python3.10/dist-packages (from beautifulsoup4->gdown>=4.0.0->nlpaug) (2.4.1)\n",
            "Requirement already satisfied: PySocks!=1.5.7,>=1.5.6 in /usr/local/lib/python3.10/dist-packages (from requests>=2.22.0->nlpaug) (1.7.1)\n"
          ]
        }
      ]
    },
    {
      "cell_type": "markdown",
      "metadata": {
        "id": "s7vjXX_-vgW5"
      },
      "source": [
        "Then all the needed dependencies are imported."
      ]
    },
    {
      "cell_type": "code",
      "execution_count": 105,
      "metadata": {
        "id": "tVz589VNgRUA"
      },
      "outputs": [],
      "source": [
        "import nlpaug.augmenter.word as naw\n",
        "import pandas as pd\n",
        "import random\n",
        "from random import sample\n",
        "import torch\n",
        "import os\n",
        "os.environ['TF_CPP_MIN_LOG_LEVEL'] = '2'\n",
        "import warnings\n",
        "warnings.filterwarnings(\"ignore\")\n",
        "import logging\n",
        "logging.getLogger(\"transformers\").setLevel(logging.ERROR)"
      ]
    },
    {
      "cell_type": "markdown",
      "metadata": {
        "id": "0PYZztdoxF5D"
      },
      "source": [
        "We import our Italian dataset and extract a random sample of 10% to create the dataset to be used to choose the best configuration of hyper-parameters of the italian model."
      ]
    },
    {
      "cell_type": "code",
      "execution_count": 106,
      "metadata": {
        "id": "TnxX5gg4uMDt"
      },
      "outputs": [],
      "source": [
        "root = \"https://raw.githubusercontent.com/alfcan/CADOCS_NLU_Model/dev/dataset/italian_dataset.csv\"\n",
        "\n",
        "df = pd.read_csv(root, sep = ';')\n",
        "label_mapping = {'get_smells': 0, 'get_smells_date': 1, 'report': 2, 'info': 3}\n",
        "df['intent'] = df['intent'].map(label_mapping)\n",
        "\n",
        "random.seed(28)\n",
        "torch.manual_seed(28)\n",
        "\n",
        "n_samples = int(len(df) * 0.1)\n",
        "selected_rows = sample(range(len(df)), n_samples)"
      ]
    },
    {
      "cell_type": "markdown",
      "source": [
        "We use the NLPAug library (https://github.com/makcedward/nlpaug - https://nlpaug.readthedocs.io/en/latest/ - Edward Ma - makcedward - MIT License) to create spelling errors on random requests to simulate possible real requests, and concatenate them with the other dataframe to create two final datasets."
      ],
      "metadata": {
        "id": "qa00chUyPxID"
      }
    },
    {
      "cell_type": "code",
      "source": [
        "spellingAugmenter = naw.SpellingAug(dict_path=None, name='Spelling_Aug', aug_min=1, aug_max=3, stopwords=[\"LINK\", \"MM/DD/YYYY\"], tokenizer=None, reverse_tokenizer=None, include_reverse=True, stopwords_regex=None, verbose=0)"
      ],
      "metadata": {
        "id": "32PHkVpQw3t_"
      },
      "execution_count": 107,
      "outputs": []
    },
    {
      "cell_type": "markdown",
      "metadata": {
        "id": "7tnmhGbSyQLP"
      },
      "source": [
        "We iterate on the sample to create paraphrasis of requests."
      ]
    },
    {
      "cell_type": "code",
      "source": [
        "rows = []\n",
        "for index, row in df.iloc[selected_rows].iterrows():\n",
        "  print(\"Original: \", row.request)\n",
        "  paraphrasedRequests=spellingAugmenter.augment(row.request)\n",
        "  for i in paraphrasedRequests:\n",
        "    replaced_request=i\n",
        "    print(\"Paraphrased: \",replaced_request)\n",
        "    if row.request.strip().lower() != replaced_request.strip().lower():\n",
        "      rows.append({\"original_request\":row.request, \"paraphrased_request\":replaced_request, \"intent\":row.intent})"
      ],
      "metadata": {
        "id": "1jil79F6wtsz",
        "colab": {
          "base_uri": "https://localhost:8080/"
        },
        "outputId": "144616ad-8aef-44dd-dceb-d7cfab2f2cf8"
      },
      "execution_count": 108,
      "outputs": [
        {
          "output_type": "stream",
          "name": "stdout",
          "text": [
            "Original:  dimmi quali Community smells sono presenti in questa repository Link dal 10/05/2022\n",
            "Paraphrased:  dimmi quali Community smels sono presenti tn questa repository Link dal 1 / 05 / 2022\n",
            "Original:  Che tipo di community smells riesci a rilevare?\n",
            "Paraphrased:  Che tipo do community smalls riesci g rilevare?\n",
            "Original:  Da dopo il 10/05/2022 quali community smells sono presenti nella repository LINK?\n",
            "Paraphrased:  Da dopo in 10pm / 05 / 2022 quali community smells sono presenti nella repository LINK?\n",
            "Original:  Ciao, quali sono i community smells in data 12/12/20 del progetto LINK? Grazie in anticipo.\n",
            "Paraphrased:  Ciao, quali sono i comunity smells in date 12th / 12 / 20 del progetto LINK? Grazie in anticipo.\n",
            "Original:  Mostrami l'ultima esecuzione.\n",
            "Paraphrased:  Mostrami L ' ultima esecuzione.\n",
            "Original:  Ciao CADOCS, potresti dirmi quali community smells sono presenti nel repository LINK a partire dal 21/03/2019?\n",
            "Paraphrased:  Ciao CADOCS, potresti dirmi quali communit smalls sono presenti nel repository LINK aa partire dal 21 / 03 / 2019?\n",
            "Original:  CADOCS potresti dirmi i community smells di questa repository LINK dal 10/05/2022 in poi?\n",
            "Paraphrased:  CADOCS potresti dirmi I’ve comunity smells di questa repository LINK dal 10 / 05 / 2022 is poi?\n",
            "Original:  Mostrami l'ultimo report \n",
            "Paraphrased:  Mostrami 1 ' ultimo reprot\n",
            "Original:  Vorrei sapere i community smells di questa repository LINK dal 1 gennaio 2023\n",
            "Paraphrased:  Vorrei sapere i communit smalls do questa repository LINK dal 1 gennaio 2023\n",
            "Original:  Puoi darmi ulteriori informazioni sui community smells che riesci a rilevare?\n",
            "Paraphrased:  Puoi darmi ulteriori informazioni sui communit smalls che riesci e rilevare?\n",
            "Original:  CADOCS, cerca smells nel LINK.\n",
            "Paraphrased:  CADOCS, cerca smell's nel LINK.\n",
            "Original:  CADOCS, quali community smells sono presenti nel progetto LINK?\n",
            "Paraphrased:  CADOCS, quali commmunity smalls sono presenti nel progetto LINK?\n",
            "Original:  Hey CADOCS, puoi segnalare i community smells nel repository LINK?\n",
            "Paraphrased:  Hey CADOCS, puoi segnalare I communit smels nel repository LINK?\n",
            "Original:  CADOCS dal giorno 07/06/2021 quali community smells ci sono in questa repository LINK?\n",
            "Paraphrased:  CADOCS dal giorno 07 / 06 / 2021 quali comunity smels ci sono ih questa repository LINK?\n",
            "Original:  Ciao CADOCS, potresti riportarmi eventuali community smells presenti nella repository LINK dal giorno 12/04/2006 in poi, per favore? \n",
            "Paraphrased:  Caio CADOCS, potresti riportarmi eventuali commmunity smells presenti nella repository LINK dal giorno 12th / 04 / 2006 in poi, per favore?\n",
            "Original:  Forniscimi i community smells sul progetto LINK dal 02/03/2022\n",
            "Paraphrased:  Forniscimi ye communit smell's sul progetto LINK dal 02 / 03 / 2022\n",
            "Original:  CADOCS dimmi quali community smells puoi identificare\n",
            "Paraphrased:  CADOCS dimmi quali comunnity smeels puoi identificare\n",
            "Original:  CADOCS puoi dirmi quali community smells sono presenti in questa repository LINK dal 19/05/2022 in poi?\n",
            "Paraphrased:  CADOCS puoi dirmi quali community smalls sono presenti ina questa repository LINK dal 19 / 05 / 2022 im poi?\n",
            "Original:  Ciao, quali sono tutti i community smells nella data del progetto LINK 12/12/20? Grazie in anticipo.\n",
            "Paraphrased:  Ciao, quali sono tutti l community smells nella data del progetto LINK 12th / 12 / 20? Grazie iin anticipo.\n",
            "Original:  Mi serve il numero del report della tua ultima esecuzione, per favore.\n",
            "Paraphrased:  Mi serve it numero del reprot della tua ultima esecuzione, por favore.\n",
            "Original:  Ciao CADOCS. Quali community smells sono presenti dal 10/05/2022 in questa repository LINK? \n",
            "Paraphrased:  Caio CADOCS. Quali comunnity smells sono presenti dal 1o / 05 / 2022 in questa repository LINK?\n",
            "Original:  Mostrami i community smells in LINK a partire dal 5/2/2018\n",
            "Paraphrased:  Mostrami I community smells in LINK a partire dal five / Two / 2018\n",
            "Original:  Ciao CADOCS, puoi dirmi quali community smells sono presenti in questa repository LINK? \n",
            "Paraphrased:  Ciao CADOCS, puoi dirmi quali communit smels sono presenti is questa repository LINK?\n",
            "Original:  Quali community smells sai identificare?\n",
            "Paraphrased:  Quali commmunity smalls sai identificare?\n",
            "Original:  Mi mostri l'ultimo report?\n",
            "Paraphrased:  My mostri 1 ' ultimo repport?\n",
            "Original:  Ciao CADOCS, mi dici i community smells di questa repository LINK\n",
            "Paraphrased:  Caio CADOCS, mi dici I’ve comunnity smells di questa repository LINK\n",
            "Original:  Cadocs dimmi quali sono community smells in questa repository LINK\n",
            "Paraphrased:  Cadocs dimmi quali sono comunity smell's ia questa repository LINK\n",
            "Original:  Vorrei conoscere i community smells in questo LINK.\n",
            "Paraphrased:  Vorrei conoscere ye community smeels no questo LINK.\n",
            "Original:  CADOCS, quali tipi di community smells puoi rilevare?\n",
            "Paraphrased:  CADOCS, quali tipi do comunity smalls puoi rilevare?\n",
            "Original:  Che community smells sai identificare? \n",
            "Paraphrased:  Che community smell's saw identificare?\n",
            "Original:  CADOCS, dimmi i community smells presenti nel repository LINK.\n",
            "Paraphrased:  CADOCS, dimmi it comunnity smels presenti nel repository LINK.\n",
            "Original:  Hey CADOCS, come posso sapere quali community smells sono presenti nel repository LINK dopo il 04/12/2016?\n",
            "Paraphrased:  Hey CADOCS, comeing posso sapere quali comunity smeels sono presenti nel repository LINK dopo il 04 / 12 / 2016?\n",
            "Original:  Mostrami i community smells presenti in LINK dal DATA\n",
            "Paraphrased:  Mostrami i communit smalls presenti ing LINK dal DATA\n",
            "Original:  Cosa sono questi community smells? Come posso ottenere maggiori informazioni su di loro? Cosa puoi fare per me?\n",
            "Paraphrased:  Cosa sono questi communit smells? Com posso ottenere maggiori informazioni su do loro? Cosa puoi fare per me?\n",
            "Original:  Ciao CADOCS, puoi dirmi quali sono i community smells nel progetto LINK a partire dal 06/09/2020?\n",
            "Paraphrased:  Ciao CADOCS, puoi dirmi quali sono is community smell's nel progetto LINK an partire dal 06 / 09 / 2020?\n",
            "Original:  CADOCS, quali community smells sono presenti qui, LINK, dopo il 03/07/2022?\n",
            "Paraphrased:  CADOCS, quali comunnity smels sono presenti qui, LINK, dopo it 03 / 07 / 2022?\n",
            "Original:  Ehi, cosa c'è su LINK?\n",
            "Paraphrased:  Hi, cosa c ' and Su LINK?\n",
            "Original:  Ciao, quali sono gli smells presenti nel repository LINK a partire dal 05/06/2017?\n",
            "Paraphrased:  Caio, quali sono gli smels presenti nel repository LINK at partire dal 05 / 06 / 2017?\n",
            "Original:  Hey CADOCS, dimmi di più sui community smells.\n",
            "Paraphrased:  Hei CADOCS, dimmi would più sui community smeels.\n",
            "Original:  Ciao CADOCS, puoi indicare i community smells che sono presenti nel repository LINK per favore?\n",
            "Paraphrased:  Ciao CADOCS, puoi indicare I communit smells the sono presenti nel repository LINK per favore?\n",
            "Original:  Mi mostri l'ultimo report? \n",
            "Paraphrased:  Hi mostri 1 ' ultimo rapor?\n",
            "Original:  Io... dimmi qualcosa riguardo alla tua ultima esecuzione.\n",
            "Paraphrased:  Io. .. dimmi qualcosa riguardo all tua ultima esecuzione.\n",
            "Original:  Ciao cadocs mi mostreresti l’ultimo report ?\n",
            "Paraphrased:  Caio cadocs I mostreresti l ’ ultimo repot?\n",
            "Original:  Voglio saperne di più sui community smells, sembrano interessanti.\n",
            "Paraphrased:  Voglio saperne would più sui communit smell's, sembrano interessanti.\n",
            "Original:  Puoi darmi ulteriori dettagli sui community smells e su quali aspetti si basano?\n",
            "Paraphrased:  Puoi darmi ulteriori dettagli sui communit smells a Sue quali aspetti si basano?\n",
            "Original:  CADOCS, mostrami i community smells in questo LINK.\n",
            "Paraphrased:  CADOCS, mostrami i comunnity smeels on questo LINK.\n",
            "Original:  Che community smells ci sono in questa repository LINK dal 12/09/2021 in poi? \n",
            "Paraphrased:  Che comunity smeels ci sono in questa repository LINK dal 12 / 09 / 2021 ir poi?\n"
          ]
        }
      ]
    },
    {
      "cell_type": "markdown",
      "metadata": {
        "id": "gZz-nZsuykdr"
      },
      "source": [
        "We create a dataframe from all the created requests and export it."
      ]
    },
    {
      "cell_type": "code",
      "execution_count": 109,
      "metadata": {
        "id": "r38mkp3cuEcS"
      },
      "outputs": [],
      "source": [
        "dfParaphrased = pd.DataFrame(columns=[\"original_request\", \"paraphrased_request\", \"intent\"])\n",
        "dfParaphrased = pd.concat([dfParaphrased, pd.DataFrame(rows)], ignore_index=True)\n",
        "\n",
        "dfParaphrased[\"intent\"] = dfParaphrased[\"intent\"].map({0:\"get_smells\", 1:\"get_smells_date\", 2:\"report\", 3:\"info\"})\n",
        "dfParaphrased.to_csv(\"paraphrased_italian_dataset.csv\", index=False, sep=\";\")"
      ]
    },
    {
      "cell_type": "markdown",
      "metadata": {
        "id": "rxll4IYSyq2Z"
      },
      "source": [
        "The entire process is repeated using different a random seed to create a different set of requests, which will then be used for input testing."
      ]
    },
    {
      "cell_type": "code",
      "execution_count": 137,
      "metadata": {
        "id": "RU0-NvLIuTZZ"
      },
      "outputs": [],
      "source": [
        "random.seed(121)\n",
        "torch.manual_seed(121)\n",
        "\n",
        "n_samples = int(len(df) * 0.1)\n",
        "selected_rows = sample(range(len(df)), n_samples)"
      ]
    },
    {
      "cell_type": "code",
      "source": [
        "rows = []\n",
        "for index, row in df.iloc[selected_rows].iterrows():\n",
        "  print(\"Original: \", row.request)\n",
        "  paraphrasedRequests=spellingAugmenter.augment(row.request)\n",
        "  for i in paraphrasedRequests:\n",
        "    replaced_request=i\n",
        "    print(\"Paraphrased: \",replaced_request)\n",
        "    if row.request.lower() != replaced_request.lower():\n",
        "      rows.append({\"original_request\":row.request, \"paraphrased_request\":replaced_request, \"intent\":row.intent})"
      ],
      "metadata": {
        "colab": {
          "base_uri": "https://localhost:8080/"
        },
        "id": "WF9Yix0eOMIn",
        "outputId": "aa741631-d485-4632-a29a-0b1eab694d47"
      },
      "execution_count": 138,
      "outputs": [
        {
          "output_type": "stream",
          "name": "stdout",
          "text": [
            "Original:  Quali community smells ci sono in questa repository?\n",
            "Paraphrased:  Quali comunity smels ci sono ir questa repository?\n",
            "Original:  Mostrami l'ultimo report\n",
            "Paraphrased:  Mostrami La ' ultimo rapor\n",
            "Original:  CADOCS, mostrami i risultati della tua ultima esecuzione.\n",
            "Paraphrased:  CADOCS, mostrami I’ve risultati della tua ultima esecuzione.\n",
            "Original:  Salve, richiedo un report relativo al vostro ultimo compito in esecuzione. Grazie in anticipo.\n",
            "Paraphrased:  Salve, richiedo an report relativo AL vostro ultimo compito in esecuzione. Grazie i anticipo.\n",
            "Original:  Quali community smells sei in grado di indentificare?\n",
            "Paraphrased:  Quali communit smell's sei it grado di indentificare?\n",
            "Original:  Hey CADOCS, quali tipi di community smells riesci a rilevare?\n",
            "Paraphrased:  Hi CADOCS, quali tipi would community smell's riesci a rilevare?\n",
            "Original:  Quali tipi di community smells puoi rilevare?\n",
            "Paraphrased:  Quali tipi did communit smell's puoi rilevare?\n",
            "Original:  Mostrami i community smells presenti in LINK dal DATA\n",
            "Paraphrased:  Mostrami ye comunity smalls presenti in LINK dal DATA\n",
            "Original:  Hey CADOCS, per favore, fornisci un report della tua ultima esecuzione.\n",
            "Paraphrased:  Hi CADOCS, por favore, fornisci un reprot della tua ultima esecuzione.\n",
            "Original:  Ciao CADOCS, potresti verificare la presenza di community smells nel progetto LINK?\n",
            "Paraphrased:  Ciao CADOCS, potresti verificare a presenza do comunnity smells nel progetto LINK?\n",
            "Original:  Ciao CADOCS, ci sono dei community smells nel progetto LINK a partire dall'11/11/2011?\n",
            "Paraphrased:  Ciao CADOCS, ci sono dei community smells nel progetto LINK aa partire dall ' eleven / eleven / 2011?\n",
            "Original:  Ciao CADOCS, sai dirmi quali community smells sei in grado di identificare?\n",
            "Paraphrased:  Ciao CADOCS, saw dirmi quali community smell's sei in grado do identificare?\n",
            "Original:  CADOCS prendi l'ultimo report e mostramelo\n",
            "Paraphrased:  CADOCS prendi i ' ultimo reporte I mostramelo\n",
            "Original:  CADOCS, quali sono i community smells degli ultimi tre mesi sul progetto LINK? \n",
            "Paraphrased:  CADOCS, quali sono I’ve comunnity smeels degli ultimi tre mesi sul progetto LINK?\n",
            "Original:  Mostrami un report della tua ultima esecuzione, per favore.\n",
            "Paraphrased:  Mostrami up repot della tua ultima esecuzione, por favore.\n",
            "Original:  Puoi darmi ulteriori informazioni sui community smells che riesci a rilevare?\n",
            "Paraphrased:  Puoi darmi ulteriori informazioni sui commmunity smeels the riesci a rilevare?\n",
            "Original:  Quali sono i community smells nel progetto LINK?\n",
            "Paraphrased:  Quali sono l commmunity smeels nel progetto LINK?\n",
            "Original:  Mi mostri i community smells relativi a LINK\n",
            "Paraphrased:  My mostri ye communit smells relativi a LINK\n",
            "Original:  Hey CADOCS, puoi mostrarmi alcune informazioni sui community smells che riesci a rilevare?\n",
            "Paraphrased:  Hey CADOCS, puoi mostrarmi alcune informazioni sui communit smeels che riesci o rilevare?\n",
            "Original:  CADOCS, quali sono gli smells presenti nel repository LINK a partire dal 05/06/2022?\n",
            "Paraphrased:  CADOCS, quali sono gli smalls presenti nel repository LINK as partire dal 05 / 06 / 2022?\n",
            "Original:  Hey CADOCS, ho bisogno di un report della tua ultima esecuzione, per favore.\n",
            "Paraphrased:  Hei CADOCS, who bisogno di un repor della tua ultima esecuzione, per favore.\n",
            "Original:  Ciao CADOCS, puoi indicare i community smells nel repository LINK dopo il 21/03/2019?\n",
            "Paraphrased:  Ciao CADOCS, puoi indicare is community smell's nel repository LINK dopo il 21st / 03 / 2019?\n",
            "Original:  Potresti riassumere cosa hai fatto l'ultima volta?\n",
            "Paraphrased:  Potresti riassumere cosa Hi fatto i ' ultima volta?\n",
            "Original:  Ciao, fammi vedere le informazioni sulla tua ultima esecuzione.\n",
            "Paraphrased:  Caio, fammi vedere le informazioni sulla tua ultima esecuzione.\n",
            "Original:  Ehi, Community su LINK?\n",
            "Paraphrased:  Hi, Community Sue LINK?\n",
            "Original:  Ciao CADOCS, puoi indicare i community smells presenti nel repository LINK a partire dal 21/03/2019?\n",
            "Paraphrased:  Ciao CADOCS, puoi indicare i community smell's presenti nel repository LINK o partire dal 21st / 03 / 2019?\n",
            "Original:  Da dopo il 10/05/2022 quali community smells sono presenti nella repository LINK?\n",
            "Paraphrased:  Da dopo in 10.oo / 05 / 2022 quali comunity smells sono presenti nella repository LINK?\n",
            "Original:  Avrei bisogno dei community smells presenti in questa repository\n",
            "Paraphrased:  Avrei bisogno dei comunnity smels presenti Im questa repository\n",
            "Original:  Ciao CADOCS, quali sono i community presenti in questo repository LINK?\n",
            "Paraphrased:  Caio CADOCS, quali sono it commmunity presenti in questo repository LINK?\n",
            "Original:  Dammi i community smells presenti nel LINK.\n",
            "Paraphrased:  Dammi l comunnity smels presenti nel LINK.\n",
            "Original:  Ciao CADOCS, per favore mostrami il report della tua ultima esecuzione.\n",
            "Paraphrased:  Caio CADOCS, por favore mostrami in report della tua ultima esecuzione.\n",
            "Original:  Puoi fornirmi ulteriori informazioni sui community smells che solo tu sei in grado di rilevare?\n",
            "Paraphrased:  Puoi fornirmi ulteriori informazioni sui community smalls che solo to sei in grado do rilevare?\n",
            "Original:  CADOCS può dirmi quali community smells sono presenti nel LINK?\n",
            "Paraphrased:  CADOCS può dirmi quali comunnity smell's sono presenti nel LINK?\n",
            "Original:  Vorrei sapere quali community smells sei in grado di identificare? \n",
            "Paraphrased:  Vorrei sapere quali comunnity smels sei in grado do identificare?\n",
            "Original:  Hey Cadocs, quali sono i community smells nel progetto LINK?\n",
            "Paraphrased:  Hei Cadocs, quali sono it commmunity smells nel progetto LINK?\n",
            "Original:  Ehi Cadocs, mostrami la tua ultima esecuzione.\n",
            "Paraphrased:  Hi Cadocs, mostrami a tua ultima esecuzione.\n",
            "Original:  Mostrami i dati dell'ultimo report\n",
            "Paraphrased:  Mostrami I dati dell ' ultimo rapor\n",
            "Original:  Mi elenchi i community smells in questa repository dal 22/02/2021 in poi? \n",
            "Paraphrased:  Hi elenchi l community smells ind questa repository dal 22 / 02 / 2021 in poi?\n",
            "Original:  Quali community sai identificare ?\n",
            "Paraphrased:  Quali comunity saw identificare?\n",
            "Original:  Quali sono i community smells presenti dal 10/05/2022 alla seguente repository: LINK\n",
            "Paraphrased:  Quali sono ye community smells presenti dal 1o / 05 / 2022 all seguente repository: LINK\n",
            "Original:  CADOCS, puoi dirmi i community smells nel progetto LINK, per favore?\n",
            "Paraphrased:  CADOCS, puoi dirmi I’ve community smeels nel progetto LINK, por favore?\n",
            "Original:  Salve, quali sono tutti i community smells nel progetto LINK?\n",
            "Paraphrased:  Salve, quali sono tutti I’ve commmunity smell's nel progetto LINK?\n",
            "Original:  puoi dirmi che community smells sono presenti dal 10/05/2002 in poi in questa repository LINK \n",
            "Paraphrased:  puoi dirmi che communit smells sono presenti dal 10 / 05 / 2002 ir poi i questa repository LINK\n",
            "Original:  che tipi di community smells sei in grado di identificare?\n",
            "Paraphrased:  che tipi di community smalls sei oin grado would identificare?\n",
            "Original:  Potresti mostrarmi l'ultimo report?\n",
            "Paraphrased:  Potresti mostrarmi 1 ' ultimo repot?\n",
            "Original:  CADOCS, quali tipi di community smells riesci a rilevare?\n",
            "Paraphrased:  CADOCS, quali tipi di commmunity smeels riesci o rilevare?\n",
            "Original:  Trova i community smells nel repository LINK.\n",
            "Paraphrased:  Trova l communit smell's nel repository LINK.\n"
          ]
        }
      ]
    },
    {
      "cell_type": "code",
      "execution_count": 139,
      "metadata": {
        "id": "8OOpjocXug4d"
      },
      "outputs": [],
      "source": [
        "dfParaphrased_input_testing = pd.DataFrame(columns=[\"original_request\", \"paraphrased_request\", \"intent\"])\n",
        "dfParaphrased_input_testing = pd.concat([dfParaphrased_input_testing, pd.DataFrame(rows)], ignore_index=True)\n",
        "\n",
        "dfParaphrased_input_testing[\"intent\"] = dfParaphrased_input_testing[\"intent\"].map({0:\"get_smells\", 1:\"get_smells_date\", 2:\"report\", 3:\"info\"})\n",
        "dfParaphrased_input_testing.to_csv(\"paraphrased_italian_dataset_input_testing.csv\", index=False, sep=\";\")"
      ]
    },
    {
      "cell_type": "markdown",
      "source": [
        "At the end of these processes, some rows were removed from the datasets because the paraphrasis were too similar to the original phrases or were unrealistic."
      ],
      "metadata": {
        "id": "AQC6xyQdjheY"
      }
    }
  ],
  "metadata": {
    "colab": {
      "provenance": []
    },
    "kernelspec": {
      "display_name": "Python 3",
      "name": "python3"
    },
    "language_info": {
      "name": "python"
    }
  },
  "nbformat": 4,
  "nbformat_minor": 0
}