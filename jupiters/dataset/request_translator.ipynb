{
  "nbformat": 4,
  "nbformat_minor": 0,
  "metadata": {
    "colab": {
      "provenance": [],
      "gpuType": "T4",
      "include_colab_link": true
    },
    "kernelspec": {
      "name": "python3",
      "display_name": "Python 3"
    },
    "language_info": {
      "name": "python"
    },
    "accelerator": "GPU"
  },
  "cells": [
    {
      "cell_type": "markdown",
      "metadata": {
        "id": "view-in-github",
        "colab_type": "text"
      },
      "source": [
        "<a href=\"https://colab.research.google.com/github/alfcan/CADOCS_NLU_Model/blob/feat%2Fml%2Frequest-translation/request_translator.ipynb\" target=\"_parent\"><img src=\"https://colab.research.google.com/assets/colab-badge.svg\" alt=\"Open In Colab\"/></a>"
      ]
    },
    {
      "cell_type": "markdown",
      "source": [
        "Installation of libraries."
      ],
      "metadata": {
        "id": "TNa2FMn3_2Hi"
      }
    },
    {
      "cell_type": "code",
      "execution_count": null,
      "metadata": {
        "id": "a7HmENkw_xm3"
      },
      "outputs": [],
      "source": [
        "!pip install torch transformers"
      ]
    },
    {
      "cell_type": "code",
      "source": [
        "!pip install cmake"
      ],
      "metadata": {
        "id": "Kzq8_p8-LIiD"
      },
      "execution_count": null,
      "outputs": []
    },
    {
      "cell_type": "code",
      "source": [
        "!pip install tokenizers"
      ],
      "metadata": {
        "id": "0tBXk2dxTHA5"
      },
      "execution_count": null,
      "outputs": []
    },
    {
      "cell_type": "code",
      "source": [
        "!pip install pandas sentencepiece"
      ],
      "metadata": {
        "id": "YfsBEn8TLQZh"
      },
      "execution_count": null,
      "outputs": []
    },
    {
      "cell_type": "markdown",
      "source": [
        "Import libraries and upload the model and tokenizer."
      ],
      "metadata": {
        "id": "p7YaC1G4JYCj"
      }
    },
    {
      "cell_type": "code",
      "source": [
        "import torch\n",
        "import re\n",
        "import pandas as pd\n",
        "from transformers import AutoTokenizer, AutoModelForSeq2SeqLM\n",
        "\n",
        "device = torch.device('cuda' if torch.cuda.is_available() else 'cpu')\n",
        "\n",
        "model_name_en_it = \"Helsinki-NLP/opus-mt-en-it\"  # English to Italian Model\n",
        "model_name_it_en = \"Helsinki-NLP/opus-mt-it-en\"  # Italian to English Model\n",
        "\n",
        "tokenizer_en_it = AutoTokenizer.from_pretrained(model_name_en_it)\n",
        "model_en_it = AutoModelForSeq2SeqLM.from_pretrained(model_name_en_it).to(device)\n",
        "\n",
        "tokenizer_it_en = AutoTokenizer.from_pretrained(model_name_it_en)\n",
        "model_it_en = AutoModelForSeq2SeqLM.from_pretrained(model_name_it_en).to(device)"
      ],
      "metadata": {
        "id": "u52sB-iyC3oK"
      },
      "execution_count": null,
      "outputs": []
    },
    {
      "cell_type": "markdown",
      "source": [
        "Define the function for requests translation, excluding words: \"community\", \"smells\", \"report\", \"repository\" and \"CADOCS\""
      ],
      "metadata": {
        "id": "STT9dI-uJybb"
      }
    },
    {
      "cell_type": "code",
      "source": [
        "def translate_dataset(dataset_path, output_path, tokenizer, model):\n",
        "    dataset = pd.read_csv(dataset_path, sep=';')\n",
        "    translations = []\n",
        "\n",
        "    for index, row in dataset.iterrows():\n",
        "        text = row['request']\n",
        "\n",
        "        text = text.replace(\"community\", \"<TOKEN1>\")\n",
        "        text = text.replace(\"smells\", \"<TOKEN2>\")\n",
        "        text = text.replace(\"report\", \"<TOKEN3>\")\n",
        "        text = text.replace(\"repository\", \"<TOKEN4>\")\n",
        "        text = text.replace(\"CADOCS\", \"<TOKEN5>\")\n",
        "\n",
        "        inputs = tokenizer.encode(text, return_tensors=\"pt\", padding=True)\n",
        "        translation = tokenizer.decode(model.generate(inputs.to(\"cuda\")).squeeze(), skip_special_tokens=True)\n",
        "\n",
        "        translation = translation.replace(\"<TOKEN1>\", \"community\")\n",
        "        translation = translation.replace(\"<TOKEN2>\", \"smells\")\n",
        "        translation = translation.replace(\"<TOKEN3>\", \"report\")\n",
        "        translation = translation.replace(\"<TOKEN4>\", \"repository\")\n",
        "        translation = translation.replace(\"<TOKEN5>\", \"CADOCS\")\n",
        "        translations.append(translation)\n",
        "    \n",
        "    dataset[\"translation\"] = translations\n",
        "    dataset.to_csv(output_path, index=False)"
      ],
      "metadata": {
        "id": "vBwmR6Z8Jywd"
      },
      "execution_count": null,
      "outputs": []
    },
    {
      "cell_type": "markdown",
      "source": [
        "Dataset translation from english to italian."
      ],
      "metadata": {
        "id": "aUyG6yzwJ6lB"
      }
    },
    {
      "cell_type": "code",
      "source": [
        "dataset_path_en_it = \"path_english_dataset\"\n",
        "output_path_en_it = \"output_path\"\n",
        "\n",
        "translate_dataset(dataset_path_en_it, output_path_en_it, tokenizer_en_it, model_en_it)"
      ],
      "metadata": {
        "id": "UGPUmg-rJ6we",
        "colab": {
          "base_uri": "https://localhost:8080/"
        },
        "outputId": "e84ebfb8-c676-4811-bd83-d86d71693df5"
      },
      "execution_count": null,
      "outputs": [
        {
          "output_type": "stream",
          "name": "stderr",
          "text": [
            "/usr/local/lib/python3.10/dist-packages/transformers/generation/utils.py:1353: UserWarning: Using `max_length`'s default (512) to control the generation length. This behaviour is deprecated and will be removed from the config in v5 of Transformers -- we recommend using `max_new_tokens` to control the maximum length of the generation.\n",
            "  warnings.warn(\n"
          ]
        }
      ]
    },
    {
      "cell_type": "markdown",
      "source": [
        "Dataset translation from italian to english."
      ],
      "metadata": {
        "id": "3eeFNnBmKI-Z"
      }
    },
    {
      "cell_type": "code",
      "source": [
        "dataset_path_it_en = \"path_italian_dataset\"\n",
        "output_path_it_en = \"output_path\"\n",
        "\n",
        "translate_dataset(dataset_path_it_en, output_path_it_en, tokenizer_it_en, model_it_en)"
      ],
      "metadata": {
        "id": "0XoPOyffKJH7"
      },
      "execution_count": null,
      "outputs": []
    }
  ]
}